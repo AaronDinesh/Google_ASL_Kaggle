{
 "cells": [
  {
   "cell_type": "code",
   "execution_count": null,
   "id": "575741aa",
   "metadata": {},
   "outputs": [],
   "source": [
    "import pandas as pd\n",
    "\n",
    "df = pd.read_parquet('/mnt/c/Users/aaron/Desktop/Coding/Google_ASL/1144115867.parquet')\n",
    "\n",
    "# Get rid of face and pose data\n",
    "df.drop(df.columns[1:469], axis=1, inplace=True)\n",
    "df.drop(df.columns[22:55], axis=1, inplace=True)\n",
    "df.drop(df.columns[43:511], axis=1, inplace=True)\n",
    "df.drop(df.columns[64:97], axis=1, inplace=True)\n",
    "df.drop(df.columns[85:553], axis=1, inplace=True)\n",
    "df.drop(df.columns[106:139], axis=1, inplace=True)\n",
    "df.drop(df.columns[85:127], axis=1, inplace=True)\n",
    "df.dropna(axis=0, how='all', inplace=True)\n",
    "\n",
    "df"
   ]
  },
  {
   "cell_type": "code",
   "execution_count": null,
   "id": "9823d538",
   "metadata": {},
   "outputs": [],
   "source": [
    "grouped_df = df.groupby(['sequence_id'], dropna=False)\n",
    "\n",
    "for name, subset_df in grouped_df:\n",
    "    subset_df.dropna(axis=1, how='all', inplace=True)\n",
    "    subset_df.dropna(axis=0, subset=subset_df.columns[1:], how='all', inplace=True)\n",
    "    #TODO: Save the subset df as a numpy file\n"
   ]
  }
 ],
 "metadata": {
  "kernelspec": {
   "display_name": "Python 3 (ipykernel)",
   "language": "python",
   "name": "python3"
  },
  "language_info": {
   "codemirror_mode": {
    "name": "ipython",
    "version": 3
   },
   "file_extension": ".py",
   "mimetype": "text/x-python",
   "name": "python",
   "nbconvert_exporter": "python",
   "pygments_lexer": "ipython3",
   "version": "3.10.6"
  }
 },
 "nbformat": 4,
 "nbformat_minor": 5
}
