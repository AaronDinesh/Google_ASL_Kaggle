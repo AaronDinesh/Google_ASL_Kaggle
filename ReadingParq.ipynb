{
 "cells": [
  {
   "cell_type": "code",
   "execution_count": 3,
   "id": "3564f707",
   "metadata": {},
   "outputs": [],
   "source": [
    "import numpy as np\n",
    "import pandas as pd\n",
    "import os"
   ]
  },
  {
   "cell_type": "code",
   "execution_count": 18,
   "id": "8c99c317",
   "metadata": {},
   "outputs": [],
   "source": [
    "def split_parquet(path, drop_rows=False):\n",
    "    \"\"\"\n",
    "    split_paraquet takes a path to a parquet file and splits it into multiple numpy array files (.npy)\n",
    "    It splits it by sequence_id\n",
    "\n",
    "    Parameters:\n",
    "        path (string)    : Path to parquet file \n",
    "        drop_rows (bool) : Whether to drop NA rows or not. Default: False\n",
    "\n",
    "    Returns:\n",
    "        Nothing \n",
    "    \"\"\"\n",
    "    \n",
    "    df = pd.read_parquet(path)\n",
    "    # Get rid of face and pose data\n",
    "    df.drop(df.columns[1:469], axis=1, inplace=True)\n",
    "    df.drop(df.columns[22:55], axis=1, inplace=True)\n",
    "    df.drop(df.columns[43:511], axis=1, inplace=True)\n",
    "    df.drop(df.columns[64:97], axis=1, inplace=True)\n",
    "    df.drop(df.columns[85:553], axis=1, inplace=True)\n",
    "    df.drop(df.columns[106:139], axis=1, inplace=True)\n",
    "    df.drop(df.columns[85:127], axis=1, inplace=True)\n",
    "\n",
    "    grouped_df = df.groupby(['sequence_id'], dropna=False)\n",
    "\n",
    "    try:\n",
    "        print(\"split_files does not exists. Creating directory\")\n",
    "        os.mkdir(\"split_files\")\n",
    "    except:\n",
    "        print(\"split_files already exists. Skipping directory creation\")\n",
    "    finally:\n",
    "        print(\"Splitting parquet file and saving in split_files\")\n",
    "\n",
    "\n",
    "    for name, subset_df in grouped_df:\n",
    "        subset_df.dropna(axis=1, how='all', inplace=True)\n",
    "        subset_df.interpolate(inplace=True)\n",
    "        if(drop_rows):\n",
    "            subset_df.dropna(axis=0, subset=subset_df.columns[1:], how='all', inplace=True)\n",
    "        np.save(f\"split_files/{name[0]}\",subset_df.to_numpy())\n"
   ]
  },
  {
   "cell_type": "code",
   "execution_count": 13,
   "id": "db4c60df",
   "metadata": {},
   "outputs": [],
   "source": [
    "def lev_dist(a, b):\n",
    "    \"\"\"\n",
    "    lev_dist returns the Levenshtein Distance between two strings\n",
    "\n",
    "    Parameters:\n",
    "        a (string) : First string \n",
    "        b (string) : Second string\n",
    "\n",
    "    Returns:\n",
    "        Levenshtein Distance (int) \n",
    "    \"\"\"\n",
    "\n",
    "    distance_matrix = np.zeros((len(a)+1, len(b)+1), np.int8)\n",
    "    \n",
    "    for i in range(1, len(a)+1):\n",
    "        distance_matrix[i][0] = i\n",
    "    \n",
    "    for i in range(1, len(b)+1):\n",
    "        distance_matrix[0][i] = i\n",
    "\n",
    "    for i in range(1, len(a)+1):\n",
    "        for j in range(1, len(b) + 1):\n",
    "\n",
    "            if(a[i - 1] == b[j-1]):\n",
    "                distance_matrix[i][j] = distance_matrix[i-1][j-1]\n",
    "            else:\n",
    "                distance_matrix[i][j] = min(distance_matrix[i][j - 1], distance_matrix[i - 1][j], distance_matrix[i - 1][j - 1]) + 1\n",
    "\n",
    "\n",
    "    return distance_matrix[-1][-1] "
   ]
  },
  {
   "cell_type": "code",
   "execution_count": 19,
   "id": "e21135ae",
   "metadata": {},
   "outputs": [
    {
     "name": "stdout",
     "output_type": "stream",
     "text": [
      "split_files does not exists. Creating directory\n",
      "Splitting parquet file and saving in split_files\n"
     ]
    }
   ],
   "source": [
    "files = os.listdir(\"parquet_files\")\n",
    "for file_name in files:\n",
    "     split_parquet(path=f\"parquet_files/{file_name}\")"
   ]
  }
 ],
 "metadata": {
  "kernelspec": {
   "display_name": "Python 3 (ipykernel)",
   "language": "python",
   "name": "python3"
  },
  "language_info": {
   "codemirror_mode": {
    "name": "ipython",
    "version": 3
   },
   "file_extension": ".py",
   "mimetype": "text/x-python",
   "name": "python",
   "nbconvert_exporter": "python",
   "pygments_lexer": "ipython3",
   "version": "3.10.6"
  }
 },
 "nbformat": 4,
 "nbformat_minor": 5
}
