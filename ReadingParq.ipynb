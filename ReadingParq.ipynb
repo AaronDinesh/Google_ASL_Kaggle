{
 "cells": [
  {
   "cell_type": "code",
   "execution_count": 9,
   "id": "3564f707",
   "metadata": {},
   "outputs": [],
   "source": [
    "import numpy as np\n",
    "import pandas as pd\n",
    "import os"
   ]
  },
  {
   "cell_type": "code",
   "execution_count": 6,
   "id": "8c99c317",
   "metadata": {},
   "outputs": [],
   "source": [
    "def split_parquet(path, droprows=False):\n",
    "    df = pd.read_parquet(path)\n",
    "    # Get rid of face and pose data\n",
    "    df.drop(df.columns[1:469], axis=1, inplace=True)\n",
    "    df.drop(df.columns[22:55], axis=1, inplace=True)\n",
    "    df.drop(df.columns[43:511], axis=1, inplace=True)\n",
    "    df.drop(df.columns[64:97], axis=1, inplace=True)\n",
    "    df.drop(df.columns[85:553], axis=1, inplace=True)\n",
    "    df.drop(df.columns[106:139], axis=1, inplace=True)\n",
    "    df.drop(df.columns[85:127], axis=1, inplace=True)\n",
    "\n",
    "    grouped_df = df.groupby(['sequence_id'], dropna=False)\n",
    "\n",
    "    for name, subset_df in grouped_df:\n",
    "        subset_df.dropna(axis=1, how='all', inplace=True)\n",
    "        if(droprows):\n",
    "            subset_df.dropna(axis=0, subset=subset_df.columns[1:], how='all', inplace=True)\n",
    "        np.save(f\"split_files/{name[0]}\",subset_df.to_numpy())\n"
   ]
  },
  {
   "cell_type": "code",
   "execution_count": 11,
   "id": "e21135ae",
   "metadata": {},
   "outputs": [
    {
     "name": "stdout",
     "output_type": "stream",
     "text": [
      "['1144115867.parquet']\n"
     ]
    }
   ],
   "source": [
    "files = os.listdir(\"parquet_files\")\n",
    "\n",
    "for file_name in files:\n",
    "     split_parquet(path=f\"parquet_files/{file_name}\")"
   ]
  }
 ],
 "metadata": {
  "kernelspec": {
   "display_name": "Python 3 (ipykernel)",
   "language": "python",
   "name": "python3"
  },
  "language_info": {
   "codemirror_mode": {
    "name": "ipython",
    "version": 3
   },
   "file_extension": ".py",
   "mimetype": "text/x-python",
   "name": "python",
   "nbconvert_exporter": "python",
   "pygments_lexer": "ipython3",
   "version": "3.10.6"
  }
 },
 "nbformat": 4,
 "nbformat_minor": 5
}
